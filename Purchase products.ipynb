{
 "cells": [
  {
   "cell_type": "code",
   "execution_count": 46,
   "id": "a3ebeb5f",
   "metadata": {},
   "outputs": [],
   "source": [
    "import json\n",
    "\n",
    "fd = open(\"record.json\",'r')\n",
    "r = fd.read()\n",
    "fd.close()\n",
    "\n",
    "records = json.loads(r)"
   ]
  },
  {
   "cell_type": "code",
   "execution_count": 47,
   "id": "b9d378e4",
   "metadata": {},
   "outputs": [
    {
     "data": {
      "text/plain": [
       "{'1001': {'name': 'Choco Cake', 'pr': 100, 'qn': 34},\n",
       " '1002': {'name': 'Milk Cake', 'pr': 800, 'qn': 79},\n",
       " '1003': {'name': 'Drink', 'pr': 85, 'qn': 95},\n",
       " '1004': {'name': 'Candy', 'pr': 5, 'qn': 998},\n",
       " '1005': {'name': 'Pen', 'pr': 20, 'qn': 94},\n",
       " '1006': {'name': 'Phone', 'pr': 50000, 'qn': 4},\n",
       " '1007': {'name': 'Mic', 'pr': 1500, 'qn': 0},\n",
       " '1008': {'name': 'Case', 'pr': 599, 'qn': 5},\n",
       " '1009': {'name': 'Keyboard', 'pr': 1999, 'qn': 8},\n",
       " '1010': {'name': 'Pen stand', 'pr': 100, 'qn': 20},\n",
       " '1011': {'name': 'Coffee mug', 'pr': 150, 'qn': 26},\n",
       " '1012': {'name': 'Notebook', 'pr': 30, 'qn': 15},\n",
       " '1013': {'name': 'Headphone', 'pr': 1000, 'qn': 50},\n",
       " '1014': {'name': 'Mouse', 'pr': 500, 'qn': 18},\n",
       " '1015': {'name': 'Table', 'pr': 1500, 'qn': 55},\n",
       " '1016': {'name': 'Monitor', 'pr': 3000, 'qn': 15},\n",
       " '1017': {'name': 'Chair', 'pr': 400, 'qn': 26},\n",
       " '1018': {'name': 'Fan', 'pr': 1300, 'qn': 25},\n",
       " '1019': {'name': 'Bulb', 'pr': 200, 'qn': 6},\n",
       " '1020': {'name': 'Water bottle', 'pr': 80, 'qn': 80},\n",
       " '1021': {'name': 'Mask', 'pr': 50, 'qn': 192},\n",
       " '1022': {'name': 'Wireless earphones', 'pr': 1500, 'qn': 195},\n",
       " '1023': {'name': 'Java book', 'pr': 300, 'qn': 53},\n",
       " '1024': {'name': 'Data structures textbook', 'pr': 500, 'qn': 6},\n",
       " '1025': {'name': 'Design of Algorithms textbook', 'pr': 300, 'qn': 15},\n",
       " '1026': {'name': 'Protractor', 'pr': 10, 'qn': 14},\n",
       " '1027': {'name': 'Plastic scale', 'pr': 10, 'qn': 20},\n",
       " '1028': {'name': 'Laptop stand', 'pr': 500, 'qn': 60},\n",
       " '1029': {'name': 'Bluetooth speakers', 'pr': 1000, 'qn': 50},\n",
       " '1030': {'name': 'Printer', 'pr': 2000, 'qn': 41},\n",
       " '1031': {'name': 'Acer laptop', 'pr': 60000, 'qn': 18}}"
      ]
     },
     "execution_count": 47,
     "metadata": {},
     "output_type": "execute_result"
    }
   ],
   "source": [
    "records"
   ]
  },
  {
   "cell_type": "code",
   "execution_count": 48,
   "id": "71e79e26",
   "metadata": {},
   "outputs": [
    {
     "name": "stdout",
     "output_type": "stream",
     "text": [
      "Enter the product_Id: 1005\n",
      "Enter the quantity: 4\n",
      "Product:  Pen\n",
      "Price:  20\n",
      "Billing Amount:  80\n"
     ]
    }
   ],
   "source": [
    "ui_prod  = str(input(\"Enter the product_Id: \"))\n",
    "ui_quant = int(input(\"Enter the quantity: \"))\n",
    "\n",
    "\n",
    "print(\"Product: \", records[ui_prod]['name'])\n",
    "print(\"Price: \", records[ui_prod]['pr'])\n",
    "print(\"Billing Amount: \", records[ui_prod]['pr'] * ui_quant)\n",
    "\n",
    "records[ui_prod]['qn'] = records[ui_prod]['qn'] - ui_quant"
   ]
  },
  {
   "cell_type": "code",
   "execution_count": 49,
   "id": "30fc767f",
   "metadata": {},
   "outputs": [],
   "source": [
    "js = json.dumps(records)\n",
    "\n",
    "fd = open(\"record.json\",'w')\n",
    "fd.write(js)\n",
    "fd.close()"
   ]
  },
  {
   "cell_type": "markdown",
   "id": "ea34c411",
   "metadata": {},
   "source": [
    " # Sales JSON"
   ]
  },
  {
   "cell_type": "code",
   "execution_count": 50,
   "id": "39db4937",
   "metadata": {},
   "outputs": [],
   "source": [
    "fd = open(\"sales.json\",'r')\n",
    "a  = fd.read()\n",
    "fd.close()\n",
    "sales = json.loads(a)"
   ]
  },
  {
   "cell_type": "code",
   "execution_count": 51,
   "id": "431cb8b2",
   "metadata": {},
   "outputs": [
    {
     "data": {
      "text/plain": [
       "{'0': {'name': 'null', 'quan': 0, 'amount': 0},\n",
       " '1002': {'name': 'Milk Cake', 'quan': 3, 'amount': 2400},\n",
       " '1005': {'name': 'Pen', 'quan': 6, 'amount': 120},\n",
       " '1006': {'name': 'Phone', 'quan': 5, 'amount': 250000},\n",
       " '1023': {'name': 'Java book', 'quan': 5, 'amount': 1500},\n",
       " '1015': {'name': 'Table', 'quan': 3, 'amount': 4500},\n",
       " '1025': {'name': 'Design of Algorithms textbook', 'quan': 3, 'amount': 900},\n",
       " '1030': {'name': 'Printer', 'quan': 4, 'amount': 8000},\n",
       " '1017': {'name': 'Chair', 'quan': 4, 'amount': 1600},\n",
       " '1019': {'name': 'Bulb', 'quan': 4, 'amount': 800},\n",
       " '1016': {'name': 'Monitor', 'quan': 5, 'amount': 15000},\n",
       " '1009': {'name': 'Keyboard', 'quan': 2, 'amount': 3998}}"
      ]
     },
     "execution_count": 51,
     "metadata": {},
     "output_type": "execute_result"
    }
   ],
   "source": [
    "sales"
   ]
  },
  {
   "cell_type": "code",
   "execution_count": 52,
   "id": "36c4ce72",
   "metadata": {},
   "outputs": [],
   "source": [
    "sales[ui_prod] = {'name': records[ui_prod]['name'], 'quan': ui_quant, 'amount':records[ui_prod]['pr']*ui_quant }"
   ]
  },
  {
   "cell_type": "code",
   "execution_count": 53,
   "id": "58b0458c",
   "metadata": {},
   "outputs": [],
   "source": [
    "sale = json.dumps(sales)"
   ]
  },
  {
   "cell_type": "code",
   "execution_count": 54,
   "id": "bc614472",
   "metadata": {},
   "outputs": [],
   "source": [
    "fd = open(\"sales.json\",'w')\n",
    "fd.write(sale)\n",
    "fd.close()"
   ]
  },
  {
   "cell_type": "code",
   "execution_count": null,
   "id": "9da4cf53",
   "metadata": {},
   "outputs": [],
   "source": []
  },
  {
   "cell_type": "code",
   "execution_count": null,
   "id": "e6dd01e0",
   "metadata": {},
   "outputs": [],
   "source": []
  }
 ],
 "metadata": {
  "kernelspec": {
   "display_name": "Python 3",
   "language": "python",
   "name": "python3"
  },
  "language_info": {
   "codemirror_mode": {
    "name": "ipython",
    "version": 3
   },
   "file_extension": ".py",
   "mimetype": "text/x-python",
   "name": "python",
   "nbconvert_exporter": "python",
   "pygments_lexer": "ipython3",
   "version": "3.8.8"
  }
 },
 "nbformat": 4,
 "nbformat_minor": 5
}

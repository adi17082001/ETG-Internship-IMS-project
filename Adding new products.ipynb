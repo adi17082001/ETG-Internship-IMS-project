{
 "cells": [
  {
   "cell_type": "code",
   "execution_count": 9,
   "id": "238fdc98",
   "metadata": {},
   "outputs": [],
   "source": [
    "import json\n",
    "\n",
    "fd = open(\"records.json\",'r')\n",
    "r = fd.read()\n",
    "fd.close()\n",
    "\n",
    "records = json.loads(r)"
   ]
  },
  {
   "cell_type": "code",
   "execution_count": 10,
   "id": "31fe9009",
   "metadata": {},
   "outputs": [
    {
     "data": {
      "text/plain": [
       "{'1001': {'name': 'Choco Cake', 'pr': 100, 'qn': 34},\n",
       " '1002': {'name': 'Milk Cake', 'pr': 800, 'qn': 100},\n",
       " '1003': {'name': 'Drink', 'pr': 85, 'qn': 100},\n",
       " '1004': {'name': 'Candy', 'pr': 5, 'qn': 1000},\n",
       " '1005': {'name': 'Pen', 'pr': 20, 'qn': 100},\n",
       " '1006': {'name': 'Phone', 'pr': 50000, 'qn': 10},\n",
       " '1007': {'name': 'Mic', 'pr': 1500, 'qn': 0},\n",
       " '1008': {'name': 'Case', 'pr': 599, 'qn': 5},\n",
       " '1009': {'name': 'Keyboard', 'pr': 1999, 'qn': 10},\n",
       " '1010': {'name': 'Pen stand', 'pr': 100, 'qn': 20},\n",
       " '1011': {'name': 'Coffee mug', 'pr': 150, 'qn': 30},\n",
       " '1012': {'name': 'Notebook', 'pr': 30, 'qn': 15},\n",
       " '1013': {'name': 'Headphone', 'pr': 1000, 'qn': 50},\n",
       " '1014': {'name': 'Mouse', 'pr': 500, 'qn': 20},\n",
       " '1015': {'name': 'Table', 'pr': 1500, 'qn': 60},\n",
       " '1016': {'name': 'Monitor', 'pr': 3000, 'qn': 20},\n",
       " '1017': {'name': 'Chair', 'pr': 400, 'qn': 30},\n",
       " '1018': {'name': 'Fan', 'pr': 1300, 'qn': 25},\n",
       " '1019': {'name': 'Bulb', 'pr': 200, 'qn': 10},\n",
       " '1020': {'name': 'Water bottle', 'pr': 80, 'qn': 80},\n",
       " '1021': {'name': 'Mask', 'pr': 50, 'qn': 200},\n",
       " '1022': {'name': 'Wireless earphones', 'pr': 1500, 'qn': 200},\n",
       " '1023': {'name': 'Java book', 'pr': 300, 'qn': 60},\n",
       " '1024': {'name': 'Data structures textbook', 'pr': 500, 'qn': 10},\n",
       " '1025': {'name': 'Design of Algorithms textbook', 'pr': 300, 'qn': 20},\n",
       " '1026': {'name': 'Protractor', 'pr': 10, 'qn': 20},\n",
       " '1027': {'name': 'Plastic scale', 'pr': 10, 'qn': 20},\n",
       " '1028': {'name': 'Laptop stand', 'pr': 500, 'qn': 60},\n",
       " '1029': {'name': 'Bluetooth speakers', 'pr': 1000, 'qn': 50},\n",
       " '1030': {'name': 'Printer', 'pr': 2000, 'qn': 50}}"
      ]
     },
     "execution_count": 10,
     "metadata": {},
     "output_type": "execute_result"
    }
   ],
   "source": [
    "records"
   ]
  },
  {
   "cell_type": "markdown",
   "id": "28e7b0b8",
   "metadata": {},
   "source": [
    "# Add new item into inventory"
   ]
  },
  {
   "cell_type": "code",
   "execution_count": 11,
   "id": "583f94fb",
   "metadata": {},
   "outputs": [
    {
     "name": "stdout",
     "output_type": "stream",
     "text": [
      "Enter product id:1031\n",
      "Enter name:Acer Laptop\n",
      "Enter price:60000\n",
      "Enter quantity:50\n"
     ]
    }
   ],
   "source": [
    "prod_id = str(input(\"Enter product id:\"))\n",
    "name = str(input(\"Enter name:\"))\n",
    "pr = int(input(\"Enter price:\"))\n",
    "qn = int(input(\"Enter quantity:\"))\n",
    "\n",
    "records[prod_id] = {'name': name, 'pr': pr, 'qn': qn}\n",
    "\n",
    "js = json.dumps(records)\n",
    "\n",
    "fd = open(\"records.json\",'w')\n",
    "fd.write(js)\n",
    "fd.close()"
   ]
  },
  {
   "cell_type": "code",
   "execution_count": 12,
   "id": "dd3e0758",
   "metadata": {},
   "outputs": [
    {
     "data": {
      "text/plain": [
       "{'1001': {'name': 'Choco Cake', 'pr': 100, 'qn': 34},\n",
       " '1002': {'name': 'Milk Cake', 'pr': 800, 'qn': 100},\n",
       " '1003': {'name': 'Drink', 'pr': 85, 'qn': 100},\n",
       " '1004': {'name': 'Candy', 'pr': 5, 'qn': 1000},\n",
       " '1005': {'name': 'Pen', 'pr': 20, 'qn': 100},\n",
       " '1006': {'name': 'Phone', 'pr': 50000, 'qn': 10},\n",
       " '1007': {'name': 'Mic', 'pr': 1500, 'qn': 0},\n",
       " '1008': {'name': 'Case', 'pr': 599, 'qn': 5},\n",
       " '1009': {'name': 'Keyboard', 'pr': 1999, 'qn': 10},\n",
       " '1010': {'name': 'Pen stand', 'pr': 100, 'qn': 20},\n",
       " '1011': {'name': 'Coffee mug', 'pr': 150, 'qn': 30},\n",
       " '1012': {'name': 'Notebook', 'pr': 30, 'qn': 15},\n",
       " '1013': {'name': 'Headphone', 'pr': 1000, 'qn': 50},\n",
       " '1014': {'name': 'Mouse', 'pr': 500, 'qn': 20},\n",
       " '1015': {'name': 'Table', 'pr': 1500, 'qn': 60},\n",
       " '1016': {'name': 'Monitor', 'pr': 3000, 'qn': 20},\n",
       " '1017': {'name': 'Chair', 'pr': 400, 'qn': 30},\n",
       " '1018': {'name': 'Fan', 'pr': 1300, 'qn': 25},\n",
       " '1019': {'name': 'Bulb', 'pr': 200, 'qn': 10},\n",
       " '1020': {'name': 'Water bottle', 'pr': 80, 'qn': 80},\n",
       " '1021': {'name': 'Mask', 'pr': 50, 'qn': 200},\n",
       " '1022': {'name': 'Wireless earphones', 'pr': 1500, 'qn': 200},\n",
       " '1023': {'name': 'Java book', 'pr': 300, 'qn': 60},\n",
       " '1024': {'name': 'Data structures textbook', 'pr': 500, 'qn': 10},\n",
       " '1025': {'name': 'Design of Algorithms textbook', 'pr': 300, 'qn': 20},\n",
       " '1026': {'name': 'Protractor', 'pr': 10, 'qn': 20},\n",
       " '1027': {'name': 'Plastic scale', 'pr': 10, 'qn': 20},\n",
       " '1028': {'name': 'Laptop stand', 'pr': 500, 'qn': 60},\n",
       " '1029': {'name': 'Bluetooth speakers', 'pr': 1000, 'qn': 50},\n",
       " '1030': {'name': 'Printer', 'pr': 2000, 'qn': 50},\n",
       " '1031': {'name': 'Acer Laptop', 'pr': 60000, 'qn': 50}}"
      ]
     },
     "execution_count": 12,
     "metadata": {},
     "output_type": "execute_result"
    }
   ],
   "source": [
    "records"
   ]
  },
  {
   "cell_type": "code",
   "execution_count": null,
   "id": "01574f46",
   "metadata": {},
   "outputs": [],
   "source": []
  },
  {
   "cell_type": "code",
   "execution_count": null,
   "id": "9f045cb0",
   "metadata": {},
   "outputs": [],
   "source": []
  }
 ],
 "metadata": {
  "kernelspec": {
   "display_name": "Python 3",
   "language": "python",
   "name": "python3"
  },
  "language_info": {
   "codemirror_mode": {
    "name": "ipython",
    "version": 3
   },
   "file_extension": ".py",
   "mimetype": "text/x-python",
   "name": "python",
   "nbconvert_exporter": "python",
   "pygments_lexer": "ipython3",
   "version": "3.8.8"
  }
 },
 "nbformat": 4,
 "nbformat_minor": 5
}
